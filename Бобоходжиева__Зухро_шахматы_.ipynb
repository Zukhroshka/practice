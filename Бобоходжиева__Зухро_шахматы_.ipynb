{
  "nbformat": 4,
  "nbformat_minor": 0,
  "metadata": {
    "colab": {
      "provenance": []
    },
    "kernelspec": {
      "name": "python3",
      "display_name": "Python 3"
    },
    "language_info": {
      "name": "python"
    }
  },
  "cells": [
    {
      "cell_type": "code",
      "execution_count": null,
      "metadata": {
        "colab": {
          "base_uri": "https://localhost:8080/"
        },
        "id": "aSD64yCeaDJy",
        "outputId": "5ae623d3-8bb8-4b2a-9b63-90a8d459eaab"
      },
      "outputs": [
        {
          "output_type": "stream",
          "name": "stdout",
          "text": [
            "  a b c d e f g h\n",
            "8 r n b q k b n r 8\n",
            "7 p p p p p p p p 7\n",
            "6 . . . . . . . . 6\n",
            "5 . . . . . . . . 5\n",
            "4 . . . . . . . . 4\n",
            "3 . . . . . . . . 3\n",
            "2 P P P P P P P P 2\n",
            "1 R N B Q K B N R 1\n",
            "  a b c d e f g h\n",
            "Ход белых.\n",
            "Введите начальную клетку (например, a2): a2\n",
            "Введите конечную клетку (например, a4): a4\n",
            "Ход выполнен.\n",
            "  a b c d e f g h\n",
            "8 r n b q k b n r 8\n",
            "7 p p p p p p p p 7\n",
            "6 . . . . . . . . 6\n",
            "5 . . . . . . . . 5\n",
            "4 . . . . . . . . 4\n",
            "3 . . . . . . . . 3\n",
            "2 P P P P P P P P 2\n",
            "1 R N B Q K B N R 1\n",
            "  a b c d e f g h\n",
            "Ход черных.\n",
            "Введите начальную клетку (например, a2): b3\n",
            "Введите конечную клетку (например, a4): b4\n",
            "Ход выполнен.\n",
            "  a b c d e f g h\n",
            "8 r n b q k b n r 8\n",
            "7 p p p p p p p p 7\n",
            "6 . . . . . . . . 6\n",
            "5 . . . . . . . . 5\n",
            "4 . . . . . . . . 4\n",
            "3 . . . . . . . . 3\n",
            "2 P P P P P P P P 2\n",
            "1 R N B Q K B N R 1\n",
            "  a b c d e f g h\n",
            "Ход белых.\n"
          ]
        }
      ],
      "source": [
        "# Функция для отображения шахматной доски\n",
        "def display_board(board):\n",
        "    print(\"  a b c d e f g h\")\n",
        "    for i, row in enumerate(board):\n",
        "        print(f\"{8 - i} {' '.join(row)} {8 - i}\")\n",
        "    print(\"  a b c d e f g h\")\n",
        "\n",
        "# Инициализация шахматной доски\n",
        "board = [\n",
        "    ['r', 'n', 'b', 'q', 'k', 'b', 'n', 'r'],\n",
        "    ['p', 'p', 'p', 'p', 'p', 'p', 'p', 'p'],\n",
        "    ['.', '.', '.', '.', '.', '.', '.', '.'],\n",
        "    ['.', '.', '.', '.', '.', '.', '.', '.'],\n",
        "    ['.', '.', '.', '.', '.', '.', '.', '.'],\n",
        "    ['.', '.', '.', '.', '.', '.', '.', '.'],\n",
        "    ['P', 'P', 'P', 'P', 'P', 'P', 'P', 'P'],\n",
        "    ['R', 'N', 'B', 'Q', 'K', 'B', 'N', 'R']\n",
        "]\n",
        "\n",
        "# Функция для проверки корректности хода\n",
        "def is_valid_move(board, start_row, start_col, end_row, end_col):\n",
        "    # Реализуйте логику проверки корректности хода в соответствии с правилами шахмат\n",
        "    return True\n",
        "\n",
        "# Функция для подсказки выбора новой позиции фигуры\n",
        "def get_available_moves(board, row, col):\n",
        "    # Реализуйте логику для определения доступных ходов для выбранной фигуры\n",
        "    # Выведите доступные ходы на доске для удобства пользователя\n",
        "    pass\n",
        "\n",
        "# Основной игровой цикл\n",
        "moves = 0\n",
        "while True:\n",
        "    display_board(board)\n",
        "    if moves % 2 == 0:\n",
        "        print(\"Ход белых.\")\n",
        "    else:\n",
        "        print(\"Ход черных.\")\n",
        "\n",
        "    start = input(\"Введите начальную клетку (например, a2): \")\n",
        "    end = input(\"Введите конечную клетку (например, a4): \")\n",
        "\n",
        "    start_col = ord(start[0]) - ord('a')\n",
        "    start_row = 8 - int(start[1])\n",
        "    end_col = ord(end[0]) - ord('a')\n",
        "    end_row = 8 - int(end[1])\n",
        "\n",
        "    if is_valid_move(board, start_row, start_col, end_row, end_col):\n",
        "        # Здесь можно добавить логику для выполнения хода на доске\n",
        "        print(\"Ход выполнен.\")\n",
        "    else:\n",
        "        print(\"Некорректный ход. Попробуйте снова.\")\n",
        "\n",
        "    moves += 1\n",
        "\n"
      ]
    }
  ]
}