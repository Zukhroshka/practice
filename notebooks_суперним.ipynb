{
  "metadata": {
    "language_info": {
      "name": ""
    },
    "kernelspec": {
      "name": "python",
      "display_name": "Python (Pyodide)",
      "language": "python"
    }
  },
  "nbformat_minor": 4,
  "nbformat": 4,
  "cells": [
    {
      "cell_type": "code",
      "source": "# подключаем модуль для работы со случайными числами\nimport random\n# формируем кучки с камнями\nstack_1 = random.randint(2,12)\nstack_2 = random.randint(2,12)\n# выбранная кучка\nselect = 0\n# сколько камней взяли из кучки\ntaken = 0\n# кто делает текущий ход\ncurrent_player = 'Игрок'\n\n# забираем камни из кучки\ndef take(stack, num):\n        # будем менять глобальную переменную внутри функции\n  global taken\n        # если ход делает компьютер\n  if current_player == 'Компьютер':\n                # случайным образом выбираем количество камней, которые заберём из кучки\n    taken = random.randint(1,stack)\n        # выводим состояние текущего хода\n  print(current_player + ' взял ' + str(taken) + ' камней из ' + str(num) + ' кучки')\n        # уменьшаем кучку на выбранное количество камней\n  stack = stack - taken\n        # возвращаем количество камней в кучке\n  return(stack)\n\n# выводим текущее состояние кучек\ndef result():\n        # сообщаем, сколько камней в каждой кучке\n        print('Камней в 1 кучке: ' + str(stack_1))\n        print('Камней в 2 кучке: ' + str(stack_2))\n        # если в кучках не осталось камней — текущий игрок победил\n        if stack_1 == 0 and stack_2 == 0:\n                print('Игра окончена, победил ' + current_player)\n                # выходим из программы\n                exit()\n  \n# ход компьютера\ndef take_computer():\n        # будем работать с глобальными переменными\n        global stack_1, stack_2, current_player\n        # если в первой кучке нет камней\n        if stack_1 == 0:\n                # берём камни из второй\n                stack_2 = take(stack_2, 2)\n        # то же самое для второй кучки\n        elif stack_2 == 0:\n                stack_1 = take(stack_1, 1)\n        # если камни в кучках есть\n        else:\n                # выбираем случайным образом номер кучки\n                choice = random.randint(1,2)\n                # если выбрана первая кучка — берём камни оттуда\n                if choice == 1:\n                        stack_1 = take(stack_1, 1)\n                # то же самое для второй кучки\n                else:\n                        stack_2 = take(stack_2, 2)\n\n# выводим на старте состояние кучек\nresult()\n# запускаем бесконечный цикл\nwhile True:\n        # если ходит компьютер\n  if current_player == 'Компьютер':\n                # он делает свой ход\n    take_computer()\n                # выводим состояние кучек\n    result()\n                # меняем текущего игрока\n    current_player = 'Игрок'\n        # если ходит игрок\n  else:\n                # спрашиваем у него номер кучки и количество камней\n                select = int(input('Выберите кучку: '))\n                taken = int(input('Сколько камней забрать: '))\n                # если игрок выбрал первую кучку — берём оттуда\n                if select == 1:\n                        stack_1 = take(stack_1, 1)\n                # а если вторую — то оттуда\n                else:\n                        stack_2 = take(stack_2, 2)\n                # выводим состояние кучек\n                result()\n                # меняем текущего игрока\n                current_player = 'Компьютер'\n",
      "metadata": {},
      "execution_count": null,
      "outputs": []
    }
  ]
}