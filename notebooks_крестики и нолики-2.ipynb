{
  "metadata": {
    "language_info": {
      "name": ""
    },
    "kernelspec": {
      "name": "python",
      "display_name": "Python (Pyodide)",
      "language": "python"
    }
  },
  "nbformat_minor": 4,
  "nbformat": 4,
  "cells": [
    {
      "cell_type": "code",
      "source": "# Создаем игровое поле\nboard = [' '] * 9\n​\n# Победные комбинации\nwinning_combinations = [\n [0, 1, 2], [3, 4, 5], [6, 7, 8], # Горизонтальные\n [0, 3, 6], [1, 4, 7], [2, 5, 8], # Вертикальные\n [0, 4, 8], [2, 4, 6] # Диагональные\n]\n​\ncurrent_player = 'X'  # Текущий игрок\n​\n# Функция отрисовки игрового поля\ndef draw_board():\n    print('---------')\n    for i in range(3):\n        print('|', end=' ')\n        for j in range(3):\n            print(board[i * 3 + j], end=' ')\n        print('|')\n    print('---------')\n​\n# Функция проверки победы\ndef check_win():\n    for combination in winning_combinations:\n        if board[combination[0]] == board[combination[1]] == board[combination[2]] != ' ':\n            return True\n    return False\n​\n# Функция проверки ничьей\ndef check_draw():\n    return ' ' not in board\n​\n# Игровой цикл\nwhile True:\n    draw_board()\n    if check_win():\n        print('Игрок', current_player, 'победил!')\n        break\n    if check_draw():\n        print('Ничья!')\n        break\n    move = int(input('Игрок ' + current_player + ', введите номер ячейки (от 1 до 9): '))\n    if move < 1 or move > 9 or board[move - 1] != ' ':\n        print('Некорректный ход. Попробуйте еще раз.')\n        continue\n    board[move - 1] = current_player\n    current_player = 'O' if current_player == 'X' else 'X'",
      "metadata": {},
      "execution_count": null,
      "outputs": []
    }
  ]
}